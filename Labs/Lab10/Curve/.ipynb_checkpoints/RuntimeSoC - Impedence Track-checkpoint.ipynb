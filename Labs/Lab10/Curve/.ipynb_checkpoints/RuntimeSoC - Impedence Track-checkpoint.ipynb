{
 "cells": [
  {
   "cell_type": "markdown",
   "id": "5367c06f",
   "metadata": {},
   "source": [
    "## CSCI-5800 |  BMS Lab07 - Runtime SoC Estimation 🧪\n",
    "<h5>Done by Sundeep Dayalan (03-25-2024)</h5>\n",
    "\n",
    "> **See Also**: To refer full code, visit [GitHub Code](https://github.com/Sundeep-D/Battery-management-System-Labs)."
   ]
  },
  {
   "cell_type": "markdown",
   "id": "9ea95875",
   "metadata": {},
   "source": [
    "\n",
    "<h5>Determine voltage range values to store in EPROM</h5>\n",
    "\n"
   ]
  },
  {
   "cell_type": "code",
   "execution_count": 1,
   "id": "b33f2c03",
   "metadata": {},
   "outputs": [
    {
     "name": "stdout",
     "output_type": "stream",
     "text": [
      "    Timestamp  Voltage1  Voltage2  Current  CurrentCapacity  TotalCapacity  \\\n",
      "0         198      7.06      5.00  0.02275         0.001251       0.001251   \n",
      "1         738      7.08      5.00  0.02275         0.003412       0.004664   \n",
      "3        1806      7.06      5.03  0.02286         0.003391       0.011429   \n",
      "9        5014      7.08      5.03  0.02286         0.003391       0.031767   \n",
      "10       5549      7.03      5.00  0.02275         0.003381       0.035148   \n",
      "\n",
      "         OCV  \n",
      "0   7.223800  \n",
      "1   7.243800  \n",
      "3   7.224592  \n",
      "9   7.244592  \n",
      "10  7.193800  \n"
     ]
    }
   ],
   "source": [
    "import pandas as pd\n",
    "\n",
    "# Load the CSV file into a DataFrame\n",
    "df = pd.read_csv('OCV-LOG.csv')\n",
    "\n",
    "# Remove duplicate rows based on 'OCV' column\n",
    "df_no_duplicates = df.drop_duplicates(subset='OCV')\n",
    "\n",
    "# Display the first few rows of the DataFrame after removing duplicates\n",
    "print(df_no_duplicates.head())\n",
    "\n",
    "# Save the DataFrame with removed duplicates to a new CSV file\n",
    "df_no_duplicates.to_csv('OCV-LOG-no-duplicates.csv', index=False)"
   ]
  },
  {
   "cell_type": "markdown",
   "id": "e6baa76a",
   "metadata": {},
   "source": [
    "\n",
    "<h5>interpolate voltage data to limit 101 values to store in EPROM</h5>\n",
    "\n"
   ]
  },
  {
   "cell_type": "code",
   "execution_count": 2,
   "id": "df120c35",
   "metadata": {},
   "outputs": [
    {
     "name": "stdout",
     "output_type": "stream",
     "text": [
      "7.2238,7.20599008,7.209368319999999,7.18705952,7.2452255999999995,7.239008,7.24741152,7.197253120000001,7.17444128,7.14484544,7.124433600000001,7.0940217599999995,7.12627104,7.1005046400000005,7.117824000000001,7.0772848,7.051514559999999,7.072191999999999,7.03765344,7.0361164800000005,7.0591664000000005,7.00620768,7.00471872,7.008584320000001,6.97259616,6.971424,6.96923776,6.953863360000001,6.9666710400000005,6.92252608,6.920416,6.940976,6.90275456,6.9034774400000005,6.91431872,6.869451199999999,6.8694656,6.85072704,6.85006176,6.846093120000001,6.830286399999999,6.82606144,6.822932799999999,6.79761376,6.80786752,6.776283200000001,6.792758719999999,6.7546832,6.74498432,6.743241919999999,6.724224,6.72504768,6.683032,6.66446176,6.6426054400000005,6.664984,6.63174048,6.600730560000001,6.60184512,6.57164928,6.5511424,6.553473600000001,6.522208,6.518298880000001,6.4885366399999995,6.4474992,6.4583587200000006,6.41550336,6.410655679999999,6.39739648,6.3963904000000005,6.371791999999999,6.339154559999999,6.308661120000002,6.30058944,6.293856000000001,6.24001408,6.23107936,6.2250320000000015,6.16913504,6.151448000000001,6.145004480000001,6.132271680000001,6.0926,6.06447296,6.063732800000002,6.045130880000002,5.99271904,6.009432,5.97184,5.9336736000000005,5.92078656,5.871056000000001,5.87452544,5.83856896,5.843007999999999,5.786247680000001,5.751024,5.753851839999999,5.71323808,0.05\n",
      "Number of values: 101\n"
     ]
    }
   ],
   "source": [
    "import pandas as pd\n",
    "import numpy as np\n",
    "\n",
    "# Read the CSV file\n",
    "df = pd.read_csv(\"OCV-LOG-no-duplicates.csv\")\n",
    "\n",
    "# Ensure that the \"OCV\" column exists in the DataFrame\n",
    "if \"OCV\" not in df.columns:\n",
    "    raise ValueError(\"OCV column not found in the CSV file.\")\n",
    "\n",
    "# Exclude rows where voltage is 0\n",
    "df = df[df['OCV'] != 0]\n",
    "\n",
    "# Interpolate the data to get exactly 110 points\n",
    "interpolated_data = np.interp(np.linspace(0, len(df)-1, 101), df.index, df['OCV'])\n",
    "\n",
    "# Printing interpolated voltage data as comma-separated values\n",
    "print(','.join(map(str, interpolated_data)))\n",
    "\n",
    "# Print the number of values in the interpolated data\n",
    "print(\"Number of values:\", len(interpolated_data))\n"
   ]
  },
  {
   "cell_type": "code",
   "execution_count": null,
   "id": "9869b467",
   "metadata": {},
   "outputs": [],
   "source": []
  },
  {
   "cell_type": "code",
   "execution_count": null,
   "id": "e3baf5bd",
   "metadata": {},
   "outputs": [],
   "source": []
  }
 ],
 "metadata": {
  "kernelspec": {
   "display_name": "Python 3 (ipykernel)",
   "language": "python",
   "name": "python3"
  },
  "language_info": {
   "codemirror_mode": {
    "name": "ipython",
    "version": 3
   },
   "file_extension": ".py",
   "mimetype": "text/x-python",
   "name": "python",
   "nbconvert_exporter": "python",
   "pygments_lexer": "ipython3",
   "version": "3.9.13"
  }
 },
 "nbformat": 4,
 "nbformat_minor": 5
}
