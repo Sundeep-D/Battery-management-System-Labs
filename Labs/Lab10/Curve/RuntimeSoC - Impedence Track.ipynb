{
 "cells": [
  {
   "cell_type": "markdown",
   "id": "5367c06f",
   "metadata": {},
   "source": [
    "## CSCI-5800 |  BMS Lab07 - Runtime SoC Estimation 🧪\n",
    "<h5>Done by Sundeep Dayalan (03-25-2024)</h5>\n",
    "\n",
    "> **See Also**: To refer full code, visit [GitHub Code](https://github.com/Sundeep-D/Battery-management-System-Labs)."
   ]
  },
  {
   "cell_type": "markdown",
   "id": "9ea95875",
   "metadata": {},
   "source": [
    "\n",
    "<h5>Determine voltage range values to store in EPROM</h5>\n",
    "\n"
   ]
  },
  {
   "cell_type": "code",
   "execution_count": 1,
   "id": "b33f2c03",
   "metadata": {},
   "outputs": [
    {
     "name": "stdout",
     "output_type": "stream",
     "text": [
      "    Timestamp  Voltage1  Voltage2  Current  CurrentCapacity  TotalCapacity  \\\n",
      "0         198      7.06      5.00  0.02275         0.001251       0.001251   \n",
      "1         738      7.08      5.00  0.02275         0.003412       0.004664   \n",
      "3        1806      7.06      5.03  0.02286         0.003391       0.011429   \n",
      "9        5014      7.08      5.03  0.02286         0.003391       0.031767   \n",
      "10       5549      7.03      5.00  0.02275         0.003381       0.035148   \n",
      "\n",
      "         OCV  \n",
      "0   7.223800  \n",
      "1   7.243800  \n",
      "3   7.224592  \n",
      "9   7.244592  \n",
      "10  7.193800  \n"
     ]
    }
   ],
   "source": [
    "import pandas as pd\n",
    "\n",
    "# Load the CSV file into a DataFrame\n",
    "df = pd.read_csv('OCV-LOG.csv')\n",
    "\n",
    "# Remove duplicate rows based on 'OCV' column\n",
    "df_no_duplicates = df.drop_duplicates(subset='OCV')\n",
    "\n",
    "# Display the first few rows of the DataFrame after removing duplicates\n",
    "print(df_no_duplicates.head())\n",
    "\n",
    "# Save the DataFrame with removed duplicates to a new CSV file\n",
    "df_no_duplicates.to_csv('OCV-LOG-no-duplicates.csv', index=False)"
   ]
  },
  {
   "cell_type": "markdown",
   "id": "e6baa76a",
   "metadata": {},
   "source": [
    "\n",
    "<h5>interpolate voltage data to limit 101 values to store in EPROM</h5>\n",
    "\n"
   ]
  },
  {
   "cell_type": "code",
   "execution_count": 5,
   "id": "df120c35",
   "metadata": {},
   "outputs": [
    {
     "name": "stdout",
     "output_type": "stream",
     "text": [
      "7.2238,7.230178105263158,7.110709894736842,7.0464677894736845,7.0118665263157895,6.968885894736841,6.926078736842105,6.858195789473684,6.816292631578947,6.74785052631579,6.676162526315789,6.601025684210526,6.510009684210526,6.395815157894737,6.291491368421053,6.171397894736842,6.085201684210527,5.94137347368421,5.82121852631579,0.05\n",
      "Number of values: 20\n"
     ]
    }
   ],
   "source": [
    "import pandas as pd\n",
    "import numpy as np\n",
    "\n",
    "# Read the CSV file\n",
    "df = pd.read_csv(\"OCV-LOG-no-duplicates.csv\")\n",
    "\n",
    "# Ensure that the \"OCV\" column exists in the DataFrame\n",
    "if \"OCV\" not in df.columns:\n",
    "    raise ValueError(\"OCV column not found in the CSV file.\")\n",
    "\n",
    "# Exclude rows where voltage is 0\n",
    "df = df[df['OCV'] != 0]\n",
    "\n",
    "# Interpolate the data to get exactly 110 points\n",
    "interpolated_data = np.interp(np.linspace(0, len(df)-1, 20), df.index, df['OCV'])\n",
    "\n",
    "# Printing interpolated voltage data as comma-separated values\n",
    "print(','.join(map(str, interpolated_data)))\n",
    "\n",
    "# Print the number of values in the interpolated data\n",
    "print(\"Number of values:\", len(interpolated_data))\n"
   ]
  },
  {
   "cell_type": "code",
   "execution_count": 6,
   "id": "9869b467",
   "metadata": {},
   "outputs": [
    {
     "name": "stdout",
     "output_type": "stream",
     "text": [
      "0.02275,0.022908734177215118,0.022591265822784812,0.02269430379746834,0.022592658227848103,0.023233164556962026,0.023043797468354398,0.02306886075949367,0.02280012658227846,0.022802911392405017,0.0230006329113924,0.02341240506329114,0.02326240506329114,0.0229699999999999,0.023057721518987342,0.023092531645569625,0.02269987341772152,0.02253,0.02242139240506329,0.022658101265822756,0.022372658227848098,0.022224936708860762,0.022379620253164555,0.022553670886075943,0.022227974683544306,0.02197,0.022393544303797468,0.021917088607594937,0.02225886075949367,0.021758354430379746,0.022370506329113932,0.021709620253164554,0.022170506329113923,0.021592658227848102,0.022086962025316455,0.021502151898734174,0.02196164556962026,0.021453417721518986,0.02148405063291139,0.021294683544303795,0.0215146835443038,0.021484050632911394,0.021353164556962023,0.021196962025316454,0.02097,0.02086,0.020812658227848092,0.021070253164556872,0.02087113924050629,0.020788987341772154,0.020665063291139242,0.020793164556962035,0.020591265822784817,0.0203099999999999,0.0202,0.02016518987341772,0.01998,0.02006088607594937,0.01994506329113924,0.019991012658227857,0.01953,0.01952721518987341,0.01933924050632904,0.01935037974683545,0.019161012658227842,0.019002278481012654,0.018795569620253163,0.018793797468354433,0.018743037974683543,0.01844367088607595,0.01831,0.0182,0.01809,0.018016202531645566,0.017826835443037974,0.017954936708860756,0.017548101265822784,0.01742,0.017279367088607594,0.0172\n",
      "Number of current values: 80\n"
     ]
    }
   ],
   "source": [
    "import pandas as pd\n",
    "import numpy as np\n",
    "\n",
    "# Read the CSV file\n",
    "df = pd.read_csv(\"OCV-LOG-no-duplicates.csv\")\n",
    "\n",
    "# Ensure that the \"OCV\" column exists in the DataFrame\n",
    "if \"Current\" not in df.columns:\n",
    "    raise ValueError(\"OCV column not found in the CSV file.\")\n",
    "\n",
    "# Exclude rows where voltage is 0\n",
    "df = df[df['Current'] != 0]\n",
    "\n",
    "# Interpolate the data to get exactly 110 points\n",
    "interpolated_data = np.interp(np.linspace(0, len(df)-1, 80), df.index, df['Current'])\n",
    "\n",
    "# Printing interpolated voltage data as comma-separated values\n",
    "print(','.join(map(str, interpolated_data)))\n",
    "\n",
    "# Print the number of values in the interpolated data\n",
    "print(\"Number of current values:\", len(interpolated_data))"
   ]
  },
  {
   "cell_type": "code",
   "execution_count": null,
   "id": "e3baf5bd",
   "metadata": {},
   "outputs": [],
   "source": []
  }
 ],
 "metadata": {
  "kernelspec": {
   "display_name": "Python 3 (ipykernel)",
   "language": "python",
   "name": "python3"
  },
  "language_info": {
   "codemirror_mode": {
    "name": "ipython",
    "version": 3
   },
   "file_extension": ".py",
   "mimetype": "text/x-python",
   "name": "python",
   "nbconvert_exporter": "python",
   "pygments_lexer": "ipython3",
   "version": "3.9.13"
  }
 },
 "nbformat": 4,
 "nbformat_minor": 5
}
